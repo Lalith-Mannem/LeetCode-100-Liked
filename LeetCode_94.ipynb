{
 "cells": [
  {
   "cell_type": "code",
   "execution_count": null,
   "id": "3f9bfc22",
   "metadata": {},
   "outputs": [],
   "source": [
    "# Definition for a binary tree node.\n",
    "# class TreeNode:\n",
    "#     def __init__(self, val=0, left=None, right=None):\n",
    "#         self.val = val\n",
    "#         self.left = left\n",
    "#         self.right = right\n",
    "class Solution:\n",
    "    def inorderTraversal(self, root: Optional[TreeNode]) -> List[int]:\n",
    "        \n",
    "        #Iterative Solution ( O(n)-Time and O(n)-Space)\n",
    "        res = []\n",
    "        stack = []\n",
    "        curr = root\n",
    "        while curr or stack:\n",
    "            while curr:\n",
    "                stack.append(curr)\n",
    "                curr = curr.left\n",
    "            curr = stack.pop()\n",
    "            res.append(curr.val)\n",
    "            curr = curr.right\n",
    "        return res\n",
    "        \n",
    "        \n",
    "        \n",
    "        \n",
    "        # Recursive Solution ( O(n)-Time and O(n)-Space)\n",
    "        output = []\n",
    "        def inorder(node):\n",
    "            if not node:\n",
    "                return\n",
    "            else:\n",
    "                inorder(node.left)\n",
    "                output.append(node.val)\n",
    "                inorder(node.right)\n",
    "        inorder(root)\n",
    "        return output\n",
    "            \n",
    "        "
   ]
  }
 ],
 "metadata": {
  "kernelspec": {
   "display_name": "Python 3 (ipykernel)",
   "language": "python",
   "name": "python3"
  },
  "language_info": {
   "codemirror_mode": {
    "name": "ipython",
    "version": 3
   },
   "file_extension": ".py",
   "mimetype": "text/x-python",
   "name": "python",
   "nbconvert_exporter": "python",
   "pygments_lexer": "ipython3",
   "version": "3.9.7"
  }
 },
 "nbformat": 4,
 "nbformat_minor": 5
}
